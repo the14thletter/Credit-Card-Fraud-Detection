{
 "cells": [
  {
   "cell_type": "code",
   "execution_count": 1,
   "metadata": {},
   "outputs": [],
   "source": [
    "import numpy as np\n",
    "import sklearn as sk\n",
    "import pandas as pd\n",
    "import matplotlib.pyplot as plt\n",
    "from pandas_ml import ConfusionMatrix\n",
    "import pandas_ml as pdml\n",
    "from sklearn.preprocessing import scale\n",
    "import random"
   ]
  },
  {
   "cell_type": "code",
   "execution_count": 2,
   "metadata": {},
   "outputs": [
    {
     "data": {
      "text/html": [
       "<div>\n",
       "<style scoped>\n",
       "    .dataframe tbody tr th:only-of-type {\n",
       "        vertical-align: middle;\n",
       "    }\n",
       "\n",
       "    .dataframe tbody tr th {\n",
       "        vertical-align: top;\n",
       "    }\n",
       "\n",
       "    .dataframe thead th {\n",
       "        text-align: right;\n",
       "    }\n",
       "</style>\n",
       "<table border=\"1\" class=\"dataframe\">\n",
       "  <thead>\n",
       "    <tr style=\"text-align: right;\">\n",
       "      <th></th>\n",
       "      <th>Time</th>\n",
       "      <th>V1</th>\n",
       "      <th>V2</th>\n",
       "      <th>V3</th>\n",
       "      <th>V4</th>\n",
       "      <th>V5</th>\n",
       "      <th>V6</th>\n",
       "      <th>V7</th>\n",
       "      <th>V8</th>\n",
       "      <th>V9</th>\n",
       "      <th>...</th>\n",
       "      <th>V21</th>\n",
       "      <th>V22</th>\n",
       "      <th>V23</th>\n",
       "      <th>V24</th>\n",
       "      <th>V25</th>\n",
       "      <th>V26</th>\n",
       "      <th>V27</th>\n",
       "      <th>V28</th>\n",
       "      <th>Amount</th>\n",
       "      <th>Class</th>\n",
       "    </tr>\n",
       "  </thead>\n",
       "  <tbody>\n",
       "    <tr>\n",
       "      <th>0</th>\n",
       "      <td>37447.0</td>\n",
       "      <td>-0.246325</td>\n",
       "      <td>1.158134</td>\n",
       "      <td>1.705843</td>\n",
       "      <td>2.764212</td>\n",
       "      <td>0.396696</td>\n",
       "      <td>0.655449</td>\n",
       "      <td>0.735939</td>\n",
       "      <td>-0.054254</td>\n",
       "      <td>-0.766311</td>\n",
       "      <td>...</td>\n",
       "      <td>-0.268357</td>\n",
       "      <td>-0.373114</td>\n",
       "      <td>-0.192910</td>\n",
       "      <td>-0.464028</td>\n",
       "      <td>-0.114836</td>\n",
       "      <td>0.154878</td>\n",
       "      <td>0.215349</td>\n",
       "      <td>-0.032483</td>\n",
       "      <td>28.90</td>\n",
       "      <td>0</td>\n",
       "    </tr>\n",
       "    <tr>\n",
       "      <th>1</th>\n",
       "      <td>147588.0</td>\n",
       "      <td>1.983510</td>\n",
       "      <td>-0.319980</td>\n",
       "      <td>-1.357466</td>\n",
       "      <td>0.778365</td>\n",
       "      <td>-0.083390</td>\n",
       "      <td>-0.265007</td>\n",
       "      <td>-0.377379</td>\n",
       "      <td>0.017422</td>\n",
       "      <td>1.458902</td>\n",
       "      <td>...</td>\n",
       "      <td>0.134051</td>\n",
       "      <td>0.765324</td>\n",
       "      <td>-0.041304</td>\n",
       "      <td>0.667513</td>\n",
       "      <td>0.214124</td>\n",
       "      <td>0.827917</td>\n",
       "      <td>-0.033246</td>\n",
       "      <td>-0.035080</td>\n",
       "      <td>17.43</td>\n",
       "      <td>0</td>\n",
       "    </tr>\n",
       "    <tr>\n",
       "      <th>2</th>\n",
       "      <td>81848.0</td>\n",
       "      <td>0.313873</td>\n",
       "      <td>-1.461292</td>\n",
       "      <td>0.704206</td>\n",
       "      <td>1.577461</td>\n",
       "      <td>-1.278759</td>\n",
       "      <td>0.307438</td>\n",
       "      <td>-0.149311</td>\n",
       "      <td>0.148710</td>\n",
       "      <td>0.879994</td>\n",
       "      <td>...</td>\n",
       "      <td>0.395521</td>\n",
       "      <td>0.349605</td>\n",
       "      <td>-0.419974</td>\n",
       "      <td>0.098208</td>\n",
       "      <td>0.251238</td>\n",
       "      <td>-0.270405</td>\n",
       "      <td>-0.000369</td>\n",
       "      <td>0.103576</td>\n",
       "      <td>426.42</td>\n",
       "      <td>0</td>\n",
       "    </tr>\n",
       "    <tr>\n",
       "      <th>3</th>\n",
       "      <td>125561.0</td>\n",
       "      <td>1.870509</td>\n",
       "      <td>-0.825092</td>\n",
       "      <td>0.167036</td>\n",
       "      <td>0.911041</td>\n",
       "      <td>-1.660387</td>\n",
       "      <td>-1.060285</td>\n",
       "      <td>-0.778376</td>\n",
       "      <td>-0.093335</td>\n",
       "      <td>-0.129802</td>\n",
       "      <td>...</td>\n",
       "      <td>-0.391560</td>\n",
       "      <td>-0.774384</td>\n",
       "      <td>0.508311</td>\n",
       "      <td>0.788792</td>\n",
       "      <td>-0.680279</td>\n",
       "      <td>-0.983992</td>\n",
       "      <td>0.064470</td>\n",
       "      <td>0.000169</td>\n",
       "      <td>74.00</td>\n",
       "      <td>0</td>\n",
       "    </tr>\n",
       "    <tr>\n",
       "      <th>4</th>\n",
       "      <td>150580.0</td>\n",
       "      <td>2.028442</td>\n",
       "      <td>0.582348</td>\n",
       "      <td>-2.467580</td>\n",
       "      <td>0.580551</td>\n",
       "      <td>0.805696</td>\n",
       "      <td>-1.287927</td>\n",
       "      <td>0.315242</td>\n",
       "      <td>-0.284833</td>\n",
       "      <td>0.161716</td>\n",
       "      <td>...</td>\n",
       "      <td>0.136400</td>\n",
       "      <td>0.597494</td>\n",
       "      <td>-0.108103</td>\n",
       "      <td>-0.530789</td>\n",
       "      <td>0.294810</td>\n",
       "      <td>-0.102680</td>\n",
       "      <td>0.020574</td>\n",
       "      <td>-0.004036</td>\n",
       "      <td>1.00</td>\n",
       "      <td>0</td>\n",
       "    </tr>\n",
       "  </tbody>\n",
       "</table>\n",
       "<p>5 rows × 31 columns</p>\n",
       "</div>"
      ],
      "text/plain": [
       "       Time        V1        V2        V3        V4        V5        V6  \\\n",
       "0   37447.0 -0.246325  1.158134  1.705843  2.764212  0.396696  0.655449   \n",
       "1  147588.0  1.983510 -0.319980 -1.357466  0.778365 -0.083390 -0.265007   \n",
       "2   81848.0  0.313873 -1.461292  0.704206  1.577461 -1.278759  0.307438   \n",
       "3  125561.0  1.870509 -0.825092  0.167036  0.911041 -1.660387 -1.060285   \n",
       "4  150580.0  2.028442  0.582348 -2.467580  0.580551  0.805696 -1.287927   \n",
       "\n",
       "         V7        V8        V9  ...         V21       V22       V23  \\\n",
       "0  0.735939 -0.054254 -0.766311  ...   -0.268357 -0.373114 -0.192910   \n",
       "1 -0.377379  0.017422  1.458902  ...    0.134051  0.765324 -0.041304   \n",
       "2 -0.149311  0.148710  0.879994  ...    0.395521  0.349605 -0.419974   \n",
       "3 -0.778376 -0.093335 -0.129802  ...   -0.391560 -0.774384  0.508311   \n",
       "4  0.315242 -0.284833  0.161716  ...    0.136400  0.597494 -0.108103   \n",
       "\n",
       "        V24       V25       V26       V27       V28  Amount  Class  \n",
       "0 -0.464028 -0.114836  0.154878  0.215349 -0.032483   28.90      0  \n",
       "1  0.667513  0.214124  0.827917 -0.033246 -0.035080   17.43      0  \n",
       "2  0.098208  0.251238 -0.270405 -0.000369  0.103576  426.42      0  \n",
       "3  0.788792 -0.680279 -0.983992  0.064470  0.000169   74.00      0  \n",
       "4 -0.530789  0.294810 -0.102680  0.020574 -0.004036    1.00      0  \n",
       "\n",
       "[5 rows x 31 columns]"
      ]
     },
     "execution_count": 2,
     "metadata": {},
     "output_type": "execute_result"
    }
   ],
   "source": [
    "df = pd.read_csv(r\"C:\\Users\\me\\Desktop\\creditcard.csv\", low_memory=False)\n",
    "df = df.sample(frac=1).reset_index(drop=True)\n",
    "df.head()"
   ]
  },
  {
   "cell_type": "code",
   "execution_count": 3,
   "metadata": {},
   "outputs": [
    {
     "name": "stdout",
     "output_type": "stream",
     "text": [
      "We have 492 fraud data points and 284315 nonfraudulent data points.\n"
     ]
    }
   ],
   "source": [
    "frauds = df.loc[df['Class'] == 1]\n",
    "non_frauds = df.loc[df['Class'] == 0]\n",
    "print(\"We have\", len(frauds), \"fraud data points and\", len(non_frauds), \"nonfraudulent data points.\")"
   ]
  },
  {
   "cell_type": "code",
   "execution_count": 4,
   "metadata": {},
   "outputs": [
    {
     "data": {
      "image/png": "[encoded data removed]",
      "text/plain": [
       "<Figure size 432x288 with 1 Axes>"
      ]
     },
     "metadata": {
      "needs_background": "light"
     },
     "output_type": "display_data"
    },
    {
     "name": "stdout",
     "output_type": "stream",
     "text": [
      "This feature looks important based on their distribution with respect to class.\n",
      "We will now zoom in onto the fraud data to see the ranges of amount just for fun.\n"
     ]
    }
   ],
   "source": [
    "ax = frauds.plot.scatter(x='Amount', y='Class', color='Orange', label='Fraud')\n",
    "non_frauds.plot.scatter(x='Amount', y='Class', color='Blue', label='Normal', ax=ax)\n",
    "plt.show()\n",
    "print(\"This feature looks important based on their distribution with respect to class.\")\n",
    "print(\"We will now zoom in onto the fraud data to see the ranges of amount just for fun.\")"
   ]
  },
  {
   "cell_type": "code",
   "execution_count": 5,
   "metadata": {},
   "outputs": [
    {
     "data": {
      "image/png": "[encoded data removed]",
      "text/plain": [
       "<Figure size 432x288 with 1 Axes>"
      ]
     },
     "metadata": {
      "needs_background": "light"
     },
     "output_type": "display_data"
    }
   ],
   "source": [
    "bx = frauds.plot.scatter(x='Amount', y='Class', color='Orange', label='Fraud')\n",
    "plt.show()"
   ]
  },
  {
   "cell_type": "code",
   "execution_count": 6,
   "metadata": {},
   "outputs": [
    {
     "data": {
      "image/png": "[encoded data removed]",
      "text/plain": [
       "<Figure size 432x288 with 1 Axes>"
      ]
     },
     "metadata": {
      "needs_background": "light"
     },
     "output_type": "display_data"
    },
    {
     "name": "stdout",
     "output_type": "stream",
     "text": [
      "This feature may not be very important because of the similar distribution.\n"
     ]
    }
   ],
   "source": [
    "ax = frauds.plot.scatter(x='V22', y='Class', color='Orange', label='Fraud')\n",
    "non_frauds.plot.scatter(x='V22', y='Class', color='Blue', label='Normal', ax=ax)\n",
    "plt.show()\n",
    "print(\"This feature may not be very important because of the similar distribution.\")"
   ]
  },
  {
   "cell_type": "markdown",
   "metadata": {},
   "source": [
    "# Logistic Regression (Vanilla)"
   ]
  },
  {
   "cell_type": "code",
   "execution_count": 7,
   "metadata": {},
   "outputs": [],
   "source": [
    "from sklearn import datasets, linear_model\n",
    "from sklearn.preprocessing import PolynomialFeatures\n",
    "from sklearn.model_selection import train_test_split"
   ]
  },
  {
   "cell_type": "code",
   "execution_count": 8,
   "metadata": {},
   "outputs": [
    {
     "name": "stdout",
     "output_type": "stream",
     "text": [
      "X and y sizes, respectively: 284807 284807\n",
      "Train and test sizes, respectively: 185124 185124 | 99683 99683\n",
      "Total number of frauds: 492 0.001727485630620034\n",
      "Number of frauds on y_test: 169 0.0016953743366471714\n",
      "Number of frauds on y_train: 323 0.0017447764741470582\n"
     ]
    }
   ],
   "source": [
    "X = df.iloc[:,:-1]\n",
    "y = df['Class']\n",
    "\n",
    "print(\"X and y sizes, respectively:\", len(X), len(y))\n",
    "\n",
    "X_train, X_test, y_train, y_test = train_test_split(X, y, test_size=0.35)\n",
    "print(\"Train and test sizes, respectively:\", len(X_train), len(y_train), \"|\", len(X_test), len(y_test))\n",
    "print(\"Total number of frauds:\", len(y.loc[df['Class'] == 1]), len(y.loc[df['Class'] == 1])/len(y))\n",
    "print(\"Number of frauds on y_test:\", len(y_test.loc[df['Class'] == 1]), len(y_test.loc[df['Class'] == 1]) / len(y_test))\n",
    "print(\"Number of frauds on y_train:\", len(y_train.loc[df['Class'] == 1]), len(y_train.loc[df['Class'] == 1])/len(y_train))"
   ]
  },
  {
   "cell_type": "code",
   "execution_count": 12,
   "metadata": {},
   "outputs": [
    {
     "name": "stdout",
     "output_type": "stream",
     "text": [
      "Score:  0.9989366291142923\n"
     ]
    }
   ],
   "source": [
    "import warnings\n",
    "warnings.filterwarnings(\"ignore\", category=FutureWarning)\n",
    "logistic = linear_model.LogisticRegression(C=1e5)\n",
    "logistic.fit(X_train, y_train)\n",
    "print(\"Score: \", logistic.score(X_test, y_test))"
   ]
  },
  {
   "cell_type": "code",
   "execution_count": 14,
   "metadata": {},
   "outputs": [],
   "source": [
    "y_predicted = np.array(logistic.predict(X_test))\n",
    "y_right = np.array(y_test)"
   ]
  },
  {
   "cell_type": "code",
   "execution_count": 15,
   "metadata": {},
   "outputs": [
    {
     "name": "stdout",
     "output_type": "stream",
     "text": [
      "Confusion matrix:\n",
      "Predicted  False  True  __all__\n",
      "Actual                         \n",
      "False      99476    38    99514\n",
      "True          68   101      169\n",
      "__all__    99544   139    99683\n"
     ]
    },
    {
     "data": {
      "image/png": "[encoded data removed]",
      "text/plain": [
       "<Figure size 648x576 with 2 Axes>"
      ]
     },
     "metadata": {
      "needs_background": "light"
     },
     "output_type": "display_data"
    },
    {
     "name": "stdout",
     "output_type": "stream",
     "text": [
      "population: 99683\n",
      "P: 169\n",
      "N: 99514\n",
      "PositiveTest: 139\n",
      "NegativeTest: 99544\n",
      "TP: 101\n",
      "TN: 99476\n",
      "FP: 38\n",
      "FN: 68\n",
      "TPR: 0.5976331360946746\n",
      "TNR: 0.9996181441807183\n",
      "PPV: 0.7266187050359713\n",
      "NPV: 0.9993168849955798\n",
      "FPR: 0.0003818558192817091\n",
      "FDR: 0.2733812949640288\n",
      "FNR: 0.40236686390532544\n",
      "ACC: 0.9989366291142923\n",
      "F1_score: 0.6558441558441559\n",
      "MCC: 0.6584572579475577\n",
      "informedness: 0.5972512802753929\n",
      "markedness: 0.725935590031551\n",
      "prevalence: 0.0016953743366471714\n",
      "LRP: 1565.0753659296172\n",
      "LRN: 0.4025205687268744\n",
      "DOR: 3888.1873065015484\n",
      "FOR: 0.000683115004420156\n"
     ]
    }
   ],
   "source": [
    "confusion_matrix = ConfusionMatrix(y_right, y_predicted)\n",
    "print(\"Confusion matrix:\\n%s\" % confusion_matrix)\n",
    "confusion_matrix.plot(normalized=True)\n",
    "plt.show()\n",
    "confusion_matrix.print_stats()"
   ]
  },
  {
   "cell_type": "code",
   "execution_count": 16,
   "metadata": {},
   "outputs": [
    {
     "name": "stdout",
     "output_type": "stream",
     "text": [
      "FNR is 0.40236686390532544\n"
     ]
    }
   ],
   "source": [
    "print(\"FNR is {0}\".format(confusion_matrix.stats()['FNR']))"
   ]
  },
  {
   "cell_type": "markdown",
   "metadata": {},
   "source": [
    "# Logistic Regression with SMOTE over sampling"
   ]
  },
  {
   "cell_type": "code",
   "execution_count": 17,
   "metadata": {},
   "outputs": [
    {
     "name": "stdout",
     "output_type": "stream",
     "text": [
      "Size of training set after over sampling: 369602\n"
     ]
    }
   ],
   "source": [
    "df2 = pdml.ModelFrame(X_train, target=y_train)\n",
    "sampler = df2.imbalance.over_sampling.SMOTE()\n",
    "sampled = df2.fit_sample(sampler)\n",
    "print(\"Size of training set after over sampling:\", len(sampled))"
   ]
  },
  {
   "cell_type": "code",
   "execution_count": 18,
   "metadata": {},
   "outputs": [
    {
     "name": "stdout",
     "output_type": "stream",
     "text": [
      "Score:  0.9844808041491528\n"
     ]
    }
   ],
   "source": [
    "X_train_sampled = sampled.iloc[:,1:]\n",
    "y_train_sampled = sampled['Class']\n",
    "\n",
    "logistic = linear_model.LogisticRegression(C=1e5)\n",
    "logistic.fit(X_train_sampled, y_train_sampled)\n",
    "print(\"Score: \", logistic.score(X_test, y_test))"
   ]
  },
  {
   "cell_type": "code",
   "execution_count": 19,
   "metadata": {},
   "outputs": [
    {
     "name": "stdout",
     "output_type": "stream",
     "text": [
      "Confusion matrix:\n",
      "Predicted  False  True  __all__\n",
      "Actual                         \n",
      "False      97985  1529    99514\n",
      "True          18   151      169\n",
      "__all__    98003  1680    99683\n"
     ]
    },
    {
     "data": {
      "image/png": "[encoded data removed]",
      "text/plain": [
       "<Figure size 648x576 with 2 Axes>"
      ]
     },
     "metadata": {
      "needs_background": "light"
     },
     "output_type": "display_data"
    },
    {
     "name": "stdout",
     "output_type": "stream",
     "text": [
      "population: 99683\n",
      "P: 169\n",
      "N: 99514\n",
      "PositiveTest: 1680\n",
      "NegativeTest: 98003\n",
      "TP: 151\n",
      "TN: 97985\n",
      "FP: 1529\n",
      "FN: 18\n",
      "TPR: 0.893491124260355\n",
      "TNR: 0.984635327692586\n",
      "PPV: 0.08988095238095238\n",
      "NPV: 0.9998163321530974\n",
      "FPR: 0.015364672307414033\n",
      "FDR: 0.9101190476190476\n",
      "FNR: 0.10650887573964497\n",
      "ACC: 0.9844808041491528\n",
      "F1_score: 0.16333153055705787\n",
      "MCC: 0.28065202336291556\n",
      "informedness: 0.878126451952941\n",
      "markedness: 0.08969728453404979\n",
      "prevalence: 0.0016953743366471714\n",
      "LRP: 58.152305912128824\n",
      "LRN: 0.10817088595555473\n",
      "DOR: 537.596649952765\n",
      "FOR: 0.00018366784690264585\n"
     ]
    }
   ],
   "source": [
    "y_predicted1 = np.array(logistic.predict(X_test))\n",
    "y_right1 = np.array(y_test)\n",
    "\n",
    "confusion_matrix1 = ConfusionMatrix(y_right1, y_predicted1)\n",
    "print(\"Confusion matrix:\\n%s\" % confusion_matrix1)\n",
    "confusion_matrix1.plot(normalized=True)\n",
    "plt.show()\n",
    "confusion_matrix1.print_stats()"
   ]
  },
  {
   "cell_type": "code",
   "execution_count": 20,
   "metadata": {},
   "outputs": [
    {
     "name": "stdout",
     "output_type": "stream",
     "text": [
      "FNR is 0.10650887573964497\n"
     ]
    }
   ],
   "source": [
    "print(\"FNR is {0}\".format(confusion_matrix1.stats()['FNR']))"
   ]
  },
  {
   "cell_type": "code",
   "execution_count": null,
   "metadata": {},
   "outputs": [],
   "source": []
  }
 ],
 "metadata": {
  "kernelspec": {
   "display_name": "Python 3",
   "language": "python",
   "name": "python3"
  },
  "language_info": {
   "codemirror_mode": {
    "name": "ipython",
    "version": 3
   },
   "file_extension": ".py",
   "mimetype": "text/x-python",
   "name": "python",
   "nbconvert_exporter": "python",
   "pygments_lexer": "ipython3",
   "version": "3.7.2"
  }
 },
 "nbformat": 4,
 "nbformat_minor": 2
}

{
  "nbformat": 4,
  "nbformat_minor": 0,
  "metadata": {
    "colab": {
      "name": "Neural-Network.ipynb",
      "version": "0.3.2",
      "provenance": []
    },
    "kernelspec": {
      "name": "python3",
      "display_name": "Python 3"
    }
  },
  "cells": [
    {
      "metadata": {
        "id": "EFEbefykcpmh",
        "colab_type": "code",
        "colab": {}
      },
      "cell_type": "code",
      "source": [
        "import numpy as np\n",
        "import matplotlib.pyplot as plt\n",
        "import sklearn\n",
        "from sklearn.model_selection import train_test_split\n",
        "from sklearn.datasets import make_blobs\n",
        "from sklearn.linear_model import LogisticRegression\n",
        "import pandas as pd\n",
        "\n",
        "from keras.models import Sequential\n",
        "from keras.layers import Dense, Activation, Convolution2D, Flatten, Dropout, MaxPooling2D\n",
        "from keras.optimizers import SGD\n",
        "import tensorflow as tf\n",
        "\n",
        "import pandas_ml as pdml\n",
        "import imblearn\n"
      ],
      "execution_count": 0,
      "outputs": []
    },
    {
      "metadata": {
        "id": "ADswIu83fHPa",
        "colab_type": "code",
        "colab": {
          "base_uri": "https://localhost:8080/",
          "height": 122
        },
        "outputId": "3c87e775-c2cd-4573-8260-2b4af220574c"
      },
      "cell_type": "code",
      "source": [
        "from google.colab import drive\n",
        "drive.mount('/content/drive')"
      ],
      "execution_count": 6,
      "outputs": [
        {
          "output_type": "stream",
          "text": [
            "Go to this URL in a browser: https://accounts.google.com/o/oauth2/auth?client_id=947318989803-6bn6qk8qdgf4n4g3pfee6491hc0brc4i.apps.googleusercontent.com&redirect_uri=urn%3Aietf%3Awg%3Aoauth%3A2.0%3Aoob&scope=email%20https%3A%2F%2Fwww.googleapis.com%2Fauth%2Fdocs.test%20https%3A%2F%2Fwww.googleapis.com%2Fauth%2Fdrive%20https%3A%2F%2Fwww.googleapis.com%2Fauth%2Fdrive.photos.readonly%20https%3A%2F%2Fwww.googleapis.com%2Fauth%2Fpeopleapi.readonly&response_type=code\n",
            "\n",
            "Enter your authorization code:\n",
            "··········\n",
            "Mounted at /content/drive\n"
          ],
          "name": "stdout"
        }
      ]
    },
    {
      "metadata": {
        "id": "tvKQyAJ6fJeH",
        "colab_type": "code",
        "colab": {}
      },
      "cell_type": "code",
      "source": [
        "df = pd.read_csv('/content/drive/My Drive/creditcard.csv', low_memory=False)\n",
        "X = df.iloc[:,:-1]\n",
        "y = df['Class']"
      ],
      "execution_count": 0,
      "outputs": []
    },
    {
      "metadata": {
        "id": "kp_jxgw-gBVo",
        "colab_type": "code",
        "colab": {
          "base_uri": "https://localhost:8080/",
          "height": 253
        },
        "outputId": "56df4c90-9301-4813-d93b-dfc324cd0338"
      },
      "cell_type": "code",
      "source": [
        "df.head()"
      ],
      "execution_count": 9,
      "outputs": [
        {
          "output_type": "execute_result",
          "data": {
            "text/html": [
              "<div>\n",
              "<style scoped>\n",
              "    .dataframe tbody tr th:only-of-type {\n",
              "        vertical-align: middle;\n",
              "    }\n",
              "\n",
              "    .dataframe tbody tr th {\n",
              "        vertical-align: top;\n",
              "    }\n",
              "\n",
              "    .dataframe thead th {\n",
              "        text-align: right;\n",
              "    }\n",
              "</style>\n",
              "<table border=\"1\" class=\"dataframe\">\n",
              "  <thead>\n",
              "    <tr style=\"text-align: right;\">\n",
              "      <th></th>\n",
              "      <th>Time</th>\n",
              "      <th>V1</th>\n",
              "      <th>V2</th>\n",
              "      <th>V3</th>\n",
              "      <th>V4</th>\n",
              "      <th>V5</th>\n",
              "      <th>V6</th>\n",
              "      <th>V7</th>\n",
              "      <th>V8</th>\n",
              "      <th>V9</th>\n",
              "      <th>...</th>\n",
              "      <th>V21</th>\n",
              "      <th>V22</th>\n",
              "      <th>V23</th>\n",
              "      <th>V24</th>\n",
              "      <th>V25</th>\n",
              "      <th>V26</th>\n",
              "      <th>V27</th>\n",
              "      <th>V28</th>\n",
              "      <th>Amount</th>\n",
              "      <th>Class</th>\n",
              "    </tr>\n",
              "  </thead>\n",
              "  <tbody>\n",
              "    <tr>\n",
              "      <th>0</th>\n",
              "      <td>0.0</td>\n",
              "      <td>-1.359807</td>\n",
              "      <td>-0.072781</td>\n",
              "      <td>2.536347</td>\n",
              "      <td>1.378155</td>\n",
              "      <td>-0.338321</td>\n",
              "      <td>0.462388</td>\n",
              "      <td>0.239599</td>\n",
              "      <td>0.098698</td>\n",
              "      <td>0.363787</td>\n",
              "      <td>...</td>\n",
              "      <td>-0.018307</td>\n",
              "      <td>0.277838</td>\n",
              "      <td>-0.110474</td>\n",
              "      <td>0.066928</td>\n",
              "      <td>0.128539</td>\n",
              "      <td>-0.189115</td>\n",
              "      <td>0.133558</td>\n",
              "      <td>-0.021053</td>\n",
              "      <td>149.62</td>\n",
              "      <td>0</td>\n",
              "    </tr>\n",
              "    <tr>\n",
              "      <th>1</th>\n",
              "      <td>0.0</td>\n",
              "      <td>1.191857</td>\n",
              "      <td>0.266151</td>\n",
              "      <td>0.166480</td>\n",
              "      <td>0.448154</td>\n",
              "      <td>0.060018</td>\n",
              "      <td>-0.082361</td>\n",
              "      <td>-0.078803</td>\n",
              "      <td>0.085102</td>\n",
              "      <td>-0.255425</td>\n",
              "      <td>...</td>\n",
              "      <td>-0.225775</td>\n",
              "      <td>-0.638672</td>\n",
              "      <td>0.101288</td>\n",
              "      <td>-0.339846</td>\n",
              "      <td>0.167170</td>\n",
              "      <td>0.125895</td>\n",
              "      <td>-0.008983</td>\n",
              "      <td>0.014724</td>\n",
              "      <td>2.69</td>\n",
              "      <td>0</td>\n",
              "    </tr>\n",
              "    <tr>\n",
              "      <th>2</th>\n",
              "      <td>1.0</td>\n",
              "      <td>-1.358354</td>\n",
              "      <td>-1.340163</td>\n",
              "      <td>1.773209</td>\n",
              "      <td>0.379780</td>\n",
              "      <td>-0.503198</td>\n",
              "      <td>1.800499</td>\n",
              "      <td>0.791461</td>\n",
              "      <td>0.247676</td>\n",
              "      <td>-1.514654</td>\n",
              "      <td>...</td>\n",
              "      <td>0.247998</td>\n",
              "      <td>0.771679</td>\n",
              "      <td>0.909412</td>\n",
              "      <td>-0.689281</td>\n",
              "      <td>-0.327642</td>\n",
              "      <td>-0.139097</td>\n",
              "      <td>-0.055353</td>\n",
              "      <td>-0.059752</td>\n",
              "      <td>378.66</td>\n",
              "      <td>0</td>\n",
              "    </tr>\n",
              "    <tr>\n",
              "      <th>3</th>\n",
              "      <td>1.0</td>\n",
              "      <td>-0.966272</td>\n",
              "      <td>-0.185226</td>\n",
              "      <td>1.792993</td>\n",
              "      <td>-0.863291</td>\n",
              "      <td>-0.010309</td>\n",
              "      <td>1.247203</td>\n",
              "      <td>0.237609</td>\n",
              "      <td>0.377436</td>\n",
              "      <td>-1.387024</td>\n",
              "      <td>...</td>\n",
              "      <td>-0.108300</td>\n",
              "      <td>0.005274</td>\n",
              "      <td>-0.190321</td>\n",
              "      <td>-1.175575</td>\n",
              "      <td>0.647376</td>\n",
              "      <td>-0.221929</td>\n",
              "      <td>0.062723</td>\n",
              "      <td>0.061458</td>\n",
              "      <td>123.50</td>\n",
              "      <td>0</td>\n",
              "    </tr>\n",
              "    <tr>\n",
              "      <th>4</th>\n",
              "      <td>2.0</td>\n",
              "      <td>-1.158233</td>\n",
              "      <td>0.877737</td>\n",
              "      <td>1.548718</td>\n",
              "      <td>0.403034</td>\n",
              "      <td>-0.407193</td>\n",
              "      <td>0.095921</td>\n",
              "      <td>0.592941</td>\n",
              "      <td>-0.270533</td>\n",
              "      <td>0.817739</td>\n",
              "      <td>...</td>\n",
              "      <td>-0.009431</td>\n",
              "      <td>0.798278</td>\n",
              "      <td>-0.137458</td>\n",
              "      <td>0.141267</td>\n",
              "      <td>-0.206010</td>\n",
              "      <td>0.502292</td>\n",
              "      <td>0.219422</td>\n",
              "      <td>0.215153</td>\n",
              "      <td>69.99</td>\n",
              "      <td>0</td>\n",
              "    </tr>\n",
              "  </tbody>\n",
              "</table>\n",
              "<p>5 rows × 31 columns</p>\n",
              "</div>"
            ],
            "text/plain": [
              "   Time        V1        V2        V3        V4        V5        V6        V7  \\\n",
              "0   0.0 -1.359807 -0.072781  2.536347  1.378155 -0.338321  0.462388  0.239599   \n",
              "1   0.0  1.191857  0.266151  0.166480  0.448154  0.060018 -0.082361 -0.078803   \n",
              "2   1.0 -1.358354 -1.340163  1.773209  0.379780 -0.503198  1.800499  0.791461   \n",
              "3   1.0 -0.966272 -0.185226  1.792993 -0.863291 -0.010309  1.247203  0.237609   \n",
              "4   2.0 -1.158233  0.877737  1.548718  0.403034 -0.407193  0.095921  0.592941   \n",
              "\n",
              "         V8        V9  ...         V21       V22       V23       V24  \\\n",
              "0  0.098698  0.363787  ...   -0.018307  0.277838 -0.110474  0.066928   \n",
              "1  0.085102 -0.255425  ...   -0.225775 -0.638672  0.101288 -0.339846   \n",
              "2  0.247676 -1.514654  ...    0.247998  0.771679  0.909412 -0.689281   \n",
              "3  0.377436 -1.387024  ...   -0.108300  0.005274 -0.190321 -1.175575   \n",
              "4 -0.270533  0.817739  ...   -0.009431  0.798278 -0.137458  0.141267   \n",
              "\n",
              "        V25       V26       V27       V28  Amount  Class  \n",
              "0  0.128539 -0.189115  0.133558 -0.021053  149.62      0  \n",
              "1  0.167170  0.125895 -0.008983  0.014724    2.69      0  \n",
              "2 -0.327642 -0.139097 -0.055353 -0.059752  378.66      0  \n",
              "3  0.647376 -0.221929  0.062723  0.061458  123.50      0  \n",
              "4 -0.206010  0.502292  0.219422  0.215153   69.99      0  \n",
              "\n",
              "[5 rows x 31 columns]"
            ]
          },
          "metadata": {
            "tags": []
          },
          "execution_count": 9
        }
      ]
    },
    {
      "metadata": {
        "id": "a1jFWmirgCD7",
        "colab_type": "code",
        "colab": {
          "base_uri": "https://localhost:8080/",
          "height": 34
        },
        "outputId": "e43cd040-d16b-468a-fd9d-470de0ec0a7c"
      },
      "cell_type": "code",
      "source": [
        "frauds = df.loc[df['Class'] == 1]\n",
        "non_frauds = df.loc[df['Class'] == 0]\n",
        "print(\"We have\", len(frauds), \"fraud data points and\", len(non_frauds), \"regular data points.\")"
      ],
      "execution_count": 10,
      "outputs": [
        {
          "output_type": "stream",
          "text": [
            "We have 492 fraud data points and 284315 regular data points.\n"
          ],
          "name": "stdout"
        }
      ]
    },
    {
      "metadata": {
        "id": "TdWUmzqKhP1G",
        "colab_type": "code",
        "colab": {}
      },
      "cell_type": "code",
      "source": [
        "X_train, X_test, y_train, y_test = train_test_split(X, y, test_size=0.33)"
      ],
      "execution_count": 0,
      "outputs": []
    },
    {
      "metadata": {
        "id": "APcFRS2zhvkJ",
        "colab_type": "code",
        "colab": {
          "base_uri": "https://localhost:8080/",
          "height": 34
        },
        "outputId": "e41362c2-e2f3-4a9c-b6d3-36b836b6c06f"
      },
      "cell_type": "code",
      "source": [
        "print(\"Size of training set: \", X_train.shape)"
      ],
      "execution_count": 12,
      "outputs": [
        {
          "output_type": "stream",
          "text": [
            "Size of training set:  (190820, 30)\n"
          ],
          "name": "stdout"
        }
      ]
    },
    {
      "metadata": {
        "id": "TeDz7kymhzWs",
        "colab_type": "text"
      },
      "cell_type": "markdown",
      "source": [
        "# **Simplest Neural Network**"
      ]
    },
    {
      "metadata": {
        "id": "W_IkbkHMiEaA",
        "colab_type": "code",
        "colab": {
          "base_uri": "https://localhost:8080/",
          "height": 204
        },
        "outputId": "f8f06bbe-5d8c-4454-f2a4-e63205eb6b36"
      },
      "cell_type": "code",
      "source": [
        "model = Sequential()\n",
        "model.add(Dense(30, input_dim=30, activation='relu'))    \n",
        "model.add(Dense(1, activation='sigmoid'))                \n",
        "model.compile(loss='binary_crossentropy', optimizer='adam', metrics=['accuracy'])\n",
        "model.summary()\n",
        "import warnings\n",
        "warnings.simplefilter(action='ignore', category=FutureWarning)"
      ],
      "execution_count": 16,
      "outputs": [
        {
          "output_type": "stream",
          "text": [
            "_________________________________________________________________\n",
            "Layer (type)                 Output Shape              Param #   \n",
            "=================================================================\n",
            "dense_3 (Dense)              (None, 30)                930       \n",
            "_________________________________________________________________\n",
            "dense_4 (Dense)              (None, 1)                 31        \n",
            "=================================================================\n",
            "Total params: 961\n",
            "Trainable params: 961\n",
            "Non-trainable params: 0\n",
            "_________________________________________________________________\n"
          ],
          "name": "stdout"
        }
      ]
    },
    {
      "metadata": {
        "id": "pa5qWPOqiMks",
        "colab_type": "code",
        "colab": {
          "base_uri": "https://localhost:8080/",
          "height": 68
        },
        "outputId": "1e80e254-94ff-4d13-adf4-2053e1b3ed8a"
      },
      "cell_type": "code",
      "source": [
        "model.fit(X_train.as_matrix(), y_train, epochs=1)"
      ],
      "execution_count": 17,
      "outputs": [
        {
          "output_type": "stream",
          "text": [
            "Epoch 1/1\n",
            "190820/190820 [==============================] - 7s 36us/step - loss: 1.4236 - acc: 0.9107\n"
          ],
          "name": "stdout"
        },
        {
          "output_type": "execute_result",
          "data": {
            "text/plain": [
              "<keras.callbacks.History at 0x7f62c63af5c0>"
            ]
          },
          "metadata": {
            "tags": []
          },
          "execution_count": 17
        }
      ]
    },
    {
      "metadata": {
        "id": "MvKPh3FviRU3",
        "colab_type": "code",
        "colab": {
          "base_uri": "https://localhost:8080/",
          "height": 34
        },
        "outputId": "57983b3d-71cf-4d88-ba08-4eb982026b8d"
      },
      "cell_type": "code",
      "source": [
        "print(\"Loss: \", model.evaluate(X_test.as_matrix(), y_test, verbose=0))"
      ],
      "execution_count": 18,
      "outputs": [
        {
          "output_type": "stream",
          "text": [
            "Loss:  [0.026241128438311744, 0.9983721152925404]\n"
          ],
          "name": "stdout"
        }
      ]
    },
    {
      "metadata": {
        "id": "E3I31vrPikE7",
        "colab_type": "code",
        "colab": {}
      },
      "cell_type": "code",
      "source": [
        "y_predicted = model.predict(X_test.as_matrix()).T[0].astype(int)"
      ],
      "execution_count": 0,
      "outputs": []
    },
    {
      "metadata": {
        "id": "cYxmMpMekW9K",
        "colab_type": "code",
        "colab": {
          "base_uri": "https://localhost:8080/",
          "height": 588
        },
        "outputId": "f27480a7-05cf-46da-807b-c464ad384472"
      },
      "cell_type": "code",
      "source": [
        "from pandas_ml import ConfusionMatrix\n",
        "y_right = np.array(y_test)\n",
        "confusion_matrix = ConfusionMatrix(y_right, y_predicted)\n",
        "print(\"Confusion matrix:\\n%s\" % confusion_matrix)\n",
        "confusion_matrix.plot(normalized=True)\n",
        "plt.show()"
      ],
      "execution_count": 20,
      "outputs": [
        {
          "output_type": "stream",
          "text": [
            "Confusion matrix:\n",
            "Predicted      0  1  __all__\n",
            "Actual                      \n",
            "0          93834  0    93834\n",
            "1            153  0      153\n",
            "__all__    93987  0    93987\n"
          ],
          "name": "stdout"
        },
        {
          "output_type": "display_data",
          "data": {
            "image/png": "[encoded data removed]",
            "text/plain": [
              "<Figure size 648x576 with 2 Axes>"
            ]
          },
          "metadata": {
            "tags": []
          }
        }
      ]
    },
    {
      "metadata": {
        "id": "dxRMlLwKkbD4",
        "colab_type": "code",
        "colab": {
          "base_uri": "https://localhost:8080/",
          "height": 1139
        },
        "outputId": "8562898d-9147-4670-c10a-59698ab217ca"
      },
      "cell_type": "code",
      "source": [
        "confusion_matrix.confusion_matrix.print_stats()"
      ],
      "execution_count": 21,
      "outputs": [
        {
          "output_type": "stream",
          "text": [
            "/usr/local/lib/python3.6/dist-packages/pandas_ml/confusion_matrix/stats.py:60: RuntimeWarning: overflow encountered in long_scalars\n",
            "  num = df[df > 1].dropna(axis=[0, 1], thresh=1).applymap(lambda n: choose(n, 2)).sum().sum() - np.float64(nis2 * njs2) / n2\n",
            "/usr/local/lib/python3.6/dist-packages/pandas_ml/confusion_matrix/stats.py:61: RuntimeWarning: overflow encountered in long_scalars\n",
            "  den = (np.float64(nis2 + njs2) / 2 - np.float64(nis2 * njs2) / n2)\n",
            "/usr/local/lib/python3.6/dist-packages/pandas_ml/confusion_matrix/bcm.py:259: RuntimeWarning: invalid value encountered in double_scalars\n",
            "  return(np.float64(self.TN) / self.NegativeTest)\n",
            "/usr/local/lib/python3.6/dist-packages/pandas_ml/confusion_matrix/bcm.py:302: RuntimeWarning: invalid value encountered in true_divide\n",
            "  * (self.TN + self.FP) * (self.TN + self.FN)))\n",
            "/usr/local/lib/python3.6/dist-packages/pandas_ml/confusion_matrix/bcm.py:337: RuntimeWarning: invalid value encountered in double_scalars\n",
            "  return(np.float64(self.FNR) / self.TNR)\n",
            "/usr/local/lib/python3.6/dist-packages/pandas_ml/confusion_matrix/bcm.py:251: RuntimeWarning: invalid value encountered in double_scalars\n",
            "  return(np.float64(self.FN) / self.NegativeTest)\n"
          ],
          "name": "stderr"
        },
        {
          "output_type": "stream",
          "text": [
            "Confusion Matrix:\n",
            "\n",
            "Predicted      0  1  __all__\n",
            "Actual                      \n",
            "0          93834  0    93834\n",
            "1            153  0      153\n",
            "__all__    93987  0    93987\n",
            "\n",
            "\n",
            "Overall Statistics:\n",
            "\n",
            "Accuracy: 0.9983721152925404\n",
            "95% CI: (0.9980930305372964, 0.9986196754889775)\n",
            "No Information Rate: ToDo\n",
            "P-Value [Acc > NIR]: 1.0\n",
            "Kappa: 0.0\n",
            "Mcnemar's Test P-Value: ToDo\n",
            "\n",
            "\n",
            "Class Statistics:\n",
            "\n",
            "Classes                                         0           1\n",
            "Population                                  93987       93987\n",
            "P: Condition positive                       93834         153\n",
            "N: Condition negative                         153       93834\n",
            "Test outcome positive                       93987           0\n",
            "Test outcome negative                           0       93987\n",
            "TP: True Positive                           93834           0\n",
            "TN: True Negative                               0       93834\n",
            "FP: False Positive                            153           0\n",
            "FN: False Negative                              0         153\n",
            "TPR: (Sensitivity, hit rate, recall)            1           0\n",
            "TNR=SPC: (Specificity)                          0           1\n",
            "PPV: Pos Pred Value (Precision)          0.998372         NaN\n",
            "NPV: Neg Pred Value                           NaN    0.998372\n",
            "FPR: False-out                                  1           0\n",
            "FDR: False Discovery Rate              0.00162788         NaN\n",
            "FNR: Miss Rate                                  0           1\n",
            "ACC: Accuracy                            0.998372    0.998372\n",
            "F1 score                                 0.999185           0\n",
            "MCC: Matthews correlation coefficient         NaN         NaN\n",
            "Informedness                                    0           0\n",
            "Markedness                                    NaN         NaN\n",
            "Prevalence                               0.998372  0.00162788\n",
            "LR+: Positive likelihood ratio                  1         NaN\n",
            "LR-: Negative likelihood ratio                NaN           1\n",
            "DOR: Diagnostic odds ratio                    NaN         NaN\n",
            "FOR: False omission rate                      NaN  0.00162788\n"
          ],
          "name": "stdout"
        },
        {
          "output_type": "stream",
          "text": [
            "/usr/local/lib/python3.6/dist-packages/pandas_ml/confusion_matrix/bcm.py:236: RuntimeWarning: invalid value encountered in double_scalars\n",
            "  return(np.float64(self.TP) / self.PositiveTest)\n",
            "/usr/local/lib/python3.6/dist-packages/pandas_ml/confusion_matrix/bcm.py:267: RuntimeWarning: invalid value encountered in double_scalars\n",
            "  return(np.float64(self.FP) / self.PositiveTest)\n",
            "/usr/local/lib/python3.6/dist-packages/pandas_ml/confusion_matrix/bcm.py:330: RuntimeWarning: invalid value encountered in double_scalars\n",
            "  return(np.float64(self.TPR) / self.FPR)\n"
          ],
          "name": "stderr"
        }
      ]
    },
    {
      "metadata": {
        "id": "ERg9BJWGkieK",
        "colab_type": "text"
      },
      "cell_type": "markdown",
      "source": [
        "# Neural Network after oversampling , scaling and PCA"
      ]
    },
    {
      "metadata": {
        "id": "yF7zEwjGnMfp",
        "colab_type": "code",
        "colab": {
          "base_uri": "https://localhost:8080/",
          "height": 292
        },
        "outputId": "147b25e1-5967-4855-a7e6-81996d6ebce9"
      },
      "cell_type": "code",
      "source": [
        "from sklearn.decomposition import PCA\n",
        "from sklearn.preprocessing import scale\n",
        "\n",
        "df2 = pdml.ModelFrame(X_train, target=y_train)\n",
        "sampler = df2.imbalance.over_sampling.SMOTE()\n",
        "oversampled = df2.fit_sample(sampler)\n",
        "X2, y2 = oversampled.iloc[:,:-1], oversampled['Class']\n",
        "\n",
        "data = scale(X2)\n",
        "pca = PCA(n_components=10)\n",
        "X2 = pca.fit_transform(data)\n",
        "X2"
      ],
      "execution_count": 22,
      "outputs": [
        {
          "output_type": "stream",
          "text": [
            "/usr/local/lib/python3.6/dist-packages/ipykernel_launcher.py:9: DataConversionWarning: Data with input dtype int64, float64 were all converted to float64 by the scale function.\n",
            "  if __name__ == '__main__':\n"
          ],
          "name": "stderr"
        },
        {
          "output_type": "execute_result",
          "data": {
            "text/plain": [
              "array([[ 2.52913846,  0.0440578 ,  0.21282189, ..., -0.26463882,\n",
              "         0.24327175, -0.60555832],\n",
              "       [ 2.31805451,  0.96203168,  2.3628586 , ...,  0.43168622,\n",
              "         1.03868831,  0.87769978],\n",
              "       [ 2.33210027, -0.84903203,  0.11887715, ...,  0.50431203,\n",
              "        -1.46003687,  1.19787831],\n",
              "       ...,\n",
              "       [-3.9317813 ,  0.69712037,  0.3381291 , ..., -1.34374621,\n",
              "        -0.52533398, -0.14498921],\n",
              "       [-0.81040062, -0.36248982, -0.65349981, ..., -2.38825451,\n",
              "        -0.17895565, -0.65111781],\n",
              "       [-2.98689522,  2.71305606, -1.62471087, ...,  0.19281303,\n",
              "        -0.0407112 ,  1.48610869]])"
            ]
          },
          "metadata": {
            "tags": []
          },
          "execution_count": 22
        }
      ]
    },
    {
      "metadata": {
        "id": "i1JBPbGWnuwO",
        "colab_type": "code",
        "colab": {
          "base_uri": "https://localhost:8080/",
          "height": 306
        },
        "outputId": "9d0821d5-96d2-45af-a6af-f95bdc8a7055"
      },
      "cell_type": "code",
      "source": [
        "model2 = Sequential()\n",
        "model2.add(Dense(10, input_dim=10, activation='relu')) \n",
        "model2.add(Dense(27, activation='relu'))\n",
        "model2.add(Dense(20, activation='relu'))\n",
        "model2.add(Dense(15, activation='relu'))\n",
        "model2.add(Dense(1, activation='sigmoid'))\n",
        "model2.compile(loss='binary_crossentropy', optimizer='adam', metrics=['accuracy'])\n",
        "model2.summary()"
      ],
      "execution_count": 23,
      "outputs": [
        {
          "output_type": "stream",
          "text": [
            "_________________________________________________________________\n",
            "Layer (type)                 Output Shape              Param #   \n",
            "=================================================================\n",
            "dense_5 (Dense)              (None, 10)                110       \n",
            "_________________________________________________________________\n",
            "dense_6 (Dense)              (None, 27)                297       \n",
            "_________________________________________________________________\n",
            "dense_7 (Dense)              (None, 20)                560       \n",
            "_________________________________________________________________\n",
            "dense_8 (Dense)              (None, 15)                315       \n",
            "_________________________________________________________________\n",
            "dense_9 (Dense)              (None, 1)                 16        \n",
            "=================================================================\n",
            "Total params: 1,298\n",
            "Trainable params: 1,298\n",
            "Non-trainable params: 0\n",
            "_________________________________________________________________\n"
          ],
          "name": "stdout"
        }
      ]
    },
    {
      "metadata": {
        "id": "IJ2o1pNOn0GT",
        "colab_type": "code",
        "colab": {
          "base_uri": "https://localhost:8080/",
          "height": 204
        },
        "outputId": "f431db28-2b97-4e85-b3f2-df03fe2d41b3"
      },
      "cell_type": "code",
      "source": [
        "X2_test = pca.fit_transform(X_test)\n",
        "h = model2.fit(X2, y2, epochs=5, validation_data=(X2_test, y_test))"
      ],
      "execution_count": 24,
      "outputs": [
        {
          "output_type": "stream",
          "text": [
            "Train on 380962 samples, validate on 93987 samples\n",
            "Epoch 1/5\n",
            "380962/380962 [==============================] - 17s 44us/step - loss: 0.0198 - acc: 0.9938 - val_loss: 7.5080 - val_acc: 0.5291\n",
            "Epoch 2/5\n",
            "380962/380962 [==============================] - 17s 44us/step - loss: 0.0076 - acc: 0.9977 - val_loss: 7.5080 - val_acc: 0.5291\n",
            "Epoch 3/5\n",
            "380962/380962 [==============================] - 17s 44us/step - loss: 0.0062 - acc: 0.9982 - val_loss: 7.5079 - val_acc: 0.5291\n",
            "Epoch 4/5\n",
            "380962/380962 [==============================] - 16s 43us/step - loss: 0.0050 - acc: 0.9986 - val_loss: 7.5080 - val_acc: 0.5291\n",
            "Epoch 5/5\n",
            "380962/380962 [==============================] - 16s 43us/step - loss: 0.0044 - acc: 0.9987 - val_loss: 7.5080 - val_acc: 0.5291\n"
          ],
          "name": "stdout"
        }
      ]
    },
    {
      "metadata": {
        "id": "Dnhvv_2cn7jA",
        "colab_type": "code",
        "colab": {
          "base_uri": "https://localhost:8080/",
          "height": 34
        },
        "outputId": "416fa3b3-1b15-4892-c3d4-e2780432810b"
      },
      "cell_type": "code",
      "source": [
        "print(\"Loss: \", model2.evaluate(X2_test, y_test, verbose=2))"
      ],
      "execution_count": 25,
      "outputs": [
        {
          "output_type": "stream",
          "text": [
            "Loss:  [7.508046195029457, 0.5290625299243512]\n"
          ],
          "name": "stdout"
        }
      ]
    },
    {
      "metadata": {
        "id": "N6pNj9iboWT-",
        "colab_type": "code",
        "colab": {}
      },
      "cell_type": "code",
      "source": [
        "y2_predicted = np.round(model2.predict(X2_test)).T[0]\n",
        "y2_correct = np.array(y_test)"
      ],
      "execution_count": 0,
      "outputs": []
    },
    {
      "metadata": {
        "id": "fE_wy15Joet4",
        "colab_type": "code",
        "colab": {
          "base_uri": "https://localhost:8080/",
          "height": 1043
        },
        "outputId": "df7d2f68-e2eb-4396-8b83-b9d580b48d82"
      },
      "cell_type": "code",
      "source": [
        "confusion_matrix2 = ConfusionMatrix(y2_correct, y2_predicted)\n",
        "print(\"Confusion matrix:\\n%s\" % confusion_matrix2)\n",
        "confusion_matrix2.plot(normalized=True)\n",
        "plt.show()\n",
        "confusion_matrix2.print_stats()"
      ],
      "execution_count": 28,
      "outputs": [
        {
          "output_type": "stream",
          "text": [
            "Confusion matrix:\n",
            "Predicted  False   True  __all__\n",
            "Actual                          \n",
            "False      49668  44166    93834\n",
            "True          96     57      153\n",
            "__all__    49764  44223    93987\n"
          ],
          "name": "stdout"
        },
        {
          "output_type": "display_data",
          "data": {
            "image/png": "[encoded data removed]",
            "text/plain": [
              "<Figure size 648x576 with 2 Axes>"
            ]
          },
          "metadata": {
            "tags": []
          }
        },
        {
          "output_type": "stream",
          "text": [
            "population: 93987\n",
            "P: 153\n",
            "N: 93834\n",
            "PositiveTest: 44223\n",
            "NegativeTest: 49764\n",
            "TP: 57\n",
            "TN: 49668\n",
            "FP: 44166\n",
            "FN: 96\n",
            "TPR: 0.37254901960784315\n",
            "TNR: 0.5293177313127437\n",
            "PPV: 0.0012889220541347263\n",
            "NPV: 0.9980708946226188\n",
            "FPR: 0.4706822686872562\n",
            "FDR: 0.9987110779458652\n",
            "FNR: 0.6274509803921569\n",
            "ACC: 0.5290625299243512\n",
            "F1_score: 0.002568956192536506\n",
            "MCC: -0.007926113140539724\n",
            "informedness: -0.09813324907941312\n",
            "markedness: -0.000640183323246446\n",
            "prevalence: 0.0016278847074595424\n",
            "LRP: 0.7915085066766824\n",
            "LRN: 1.185395733553146\n",
            "DOR: 0.6677166825159624\n",
            "FOR: 0.0019291053773812395\n"
          ],
          "name": "stdout"
        }
      ]
    },
    {
      "metadata": {
        "id": "yh3yRhZzotOg",
        "colab_type": "code",
        "colab": {}
      },
      "cell_type": "code",
      "source": [
        ""
      ],
      "execution_count": 0,
      "outputs": []
    }
  ]
}